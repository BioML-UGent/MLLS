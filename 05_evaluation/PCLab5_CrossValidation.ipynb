{
  "cells": [
    {
      "cell_type": "markdown",
      "metadata": {
        "id": "nXDEAQB-4GU_"
      },
      "source": [
        "# PC Lab 5: Resampling Methods for Model Evaluation"
      ]
    },
    {
      "cell_type": "code",
      "execution_count": 1,
      "metadata": {
        "id": "vNUHM4IIpSiT"
      },
      "outputs": [],
      "source": [
        "import numpy as np\n",
        "import pandas as pd\n",
        "import matplotlib.pyplot as plt\n",
        "import urllib.request\n",
        "\n",
        "from sklearn.model_selection import train_test_split, KFold, StratifiedKFold, LeaveOneOut\n",
        "from sklearn.discriminant_analysis import LinearDiscriminantAnalysis as LDA\n",
        "from sklearn.neighbors import KNeighborsClassifier\n",
        "from sklearn.linear_model import LogisticRegression\n",
        "from sklearn.preprocessing import LabelEncoder\n",
        "import pc5"
      ]
    },
    {
      "cell_type": "markdown",
      "metadata": {
        "id": "GOXe2tva4GVC"
      },
      "source": [
        "---"
      ]
    },
    {
      "cell_type": "markdown",
      "metadata": {
        "id": "Wek8o13f4GVD"
      },
      "source": [
        "## Introduction\n",
        "\n",
        "<img src=\"https://upload.wikimedia.org/wikipedia/commons/thumb/b/b5/K-fold_cross_validation_EN.svg/2880px-K-fold_cross_validation_EN.svg.png\" width=500>"
      ]
    },
    {
      "cell_type": "markdown",
      "metadata": {
        "id": "nqSQ6kUj4GVE"
      },
      "source": [
        "This tutorial is about an important tool for evaluating how accurate your model will perform in practice: _Resampling methods_ are an dispensable tool in modern statistics and involve repeatedly drawing samples from a training set and refitting a model of interest on each sample in order to obtain additional information about\n",
        "the fitted model. \n",
        "\n",
        "For example, in order to estimate the variability of a linear regression fit, we can repeatedly draw different samples from the training data, fit a linear regression to each new sample, and then examine the\n",
        "extent to which the resulting fits differ. Such an approach may allow us to obtain information that would not be available from fitting the model only once using the original training sample. \n",
        "\n",
        "Resampling approaches can be computationally expensive, because they involve fitting the same statistical method multiple times using different subsets of the training data. However, due to recent advances in computing\n",
        "power, the computational requirements of resampling methods generally are not prohibitive. In this PC lab, we discuss two of the most commonly used resampling methods, _cross-validation_ and nested cross-validation.\n"
      ]
    },
    {
      "cell_type": "markdown",
      "metadata": {},
      "source": [
        "We again first load the necessary files for this PC-lab:"
      ]
    },
    {
      "cell_type": "code",
      "execution_count": 2,
      "metadata": {},
      "outputs": [
        {
          "data": {
            "text/plain": [
              "('promoters.csv', <http.client.HTTPMessage at 0x11c4c8b50>)"
            ]
          },
          "execution_count": 2,
          "metadata": {},
          "output_type": "execute_result"
        }
      ],
      "source": [
        "urllib.request.urlretrieve(\"https://raw.githubusercontent.com/BioML-UGent/MLLS/main/05_evaluation/pc5.py\",\n",
        "                           \"pc5.py\")\n",
        "urllib.request.urlretrieve(\"https://raw.githubusercontent.com/BioML-UGent/MLLS/main/05_evaluation/promoters.csv\",\n",
        "                           \"promoters.csv\")"
      ]
    },
    {
      "cell_type": "markdown",
      "metadata": {
        "id": "DM9PfHRm4GVE"
      },
      "source": [
        "## Data exploration: A simple promoter library"
      ]
    },
    {
      "cell_type": "markdown",
      "metadata": {
        "id": "5mRhkWCQ4GVG"
      },
      "source": [
        "The dataset used for the first exercise is a simpe [E. coli promoter database](https://archive.ics.uci.edu/ml/machine-learning-databases/molecular-biology/promoter-gene-sequences/promoters.names) that contains a set of both promoter regions and non-promoter regions. A promoter region is the DNA sequence upstream of genes to which the RNA polymerase binds before the transcription of genes is initiated."
      ]
    },
    {
      "cell_type": "markdown",
      "metadata": {
        "id": "Gi2MHW4i4GVH"
      },
      "source": [
        "<div class=\"alert alert-success\">\n",
        "    <h1>Exercise 5.1</h2>\n",
        "        <p><b>Load in</b> the data and <b>explore</b>. Use <code>pd.Series.value_counts()</code> to evaluate the labels. The data is stored in <code>promoters.csv</code></p>\n",
        "</div>"
      ]
    },
    {
      "cell_type": "code",
      "execution_count": null,
      "metadata": {
        "colab": {
          "base_uri": "https://localhost:8080/",
          "height": 206
        },
        "id": "cvaXLRvd4GVH",
        "outputId": "70acce48-5f3d-464e-a037-58c07b75120b"
      },
      "outputs": [],
      "source": [
        "df_data = \"..\" # TODO: load the data from the promoters.csv file\n",
        "\n",
        "\"..\" # explore the data"
      ]
    },
    {
      "cell_type": "markdown",
      "metadata": {
        "id": "JHssRY5H4GVI"
      },
      "source": [
        "**We see the first column is not used to identify column names**. Hence, we can just load the dataframe without its headings, setting <code>header=None<code>."
      ]
    },
    {
      "cell_type": "code",
      "execution_count": null,
      "metadata": {
        "colab": {
          "base_uri": "https://localhost:8080/",
          "height": 206
        },
        "id": "PA5Mm3uq4GVI",
        "outputId": "8944ffc9-3b3d-4fbf-9d2a-ca572fa3388e"
      },
      "outputs": [],
      "source": [
        "# TODO: load data withouth the first column"
      ]
    },
    {
      "cell_type": "markdown",
      "metadata": {},
      "source": [
        "Now evaluate the distribution of the 2 labels, using the built-in pandas function <code>pd.Series.value_counts()</code>. Is our dataset balanced?"
      ]
    },
    {
      "cell_type": "code",
      "execution_count": null,
      "metadata": {
        "colab": {
          "base_uri": "https://localhost:8080/"
        },
        "id": "Z05lMXdw4GVJ",
        "outputId": "e8150daf-f4b0-4a54-b496-ae2e61b900c0"
      },
      "outputs": [],
      "source": [
        " # TODO: count the number of promoters and non-promoters"
      ]
    },
    {
      "cell_type": "markdown",
      "metadata": {},
      "source": [
        "**Given the distribution of the 2 labels, which accuracy can we at _least_ expect from a baseline?**"
      ]
    },
    {
      "cell_type": "markdown",
      "metadata": {
        "id": "QQU8XOFf4GVJ"
      },
      "source": [
        "<div class=\"alert alert-success\">\n",
        "    <h2>Exercise 5.1.1</h2>\n",
        "                <p><b>Create</b> the features and labels for the model. Create your own features, use results from the previous PC lab or use <code>pc5.CreateDummyNucleotideFeatures()</code>. To explore how this function works, tap `Shift+Tab` within the brackets of the written out function (autocompleted with tapping `Tab`).\n",
        "                For the labels, take a look at the <code>sklearn.preprocessing.LabelEncoder</code> class.</p>\n",
        "</div>"
      ]
    },
    {
      "cell_type": "markdown",
      "metadata": {},
      "source": [
        "**Hint: As given in the docstring: for the features, a pandas DataFrame object is returned. To transform into numpy array, use the <code>pd.DataFrame.values</code> function.**"
      ]
    },
    {
      "cell_type": "code",
      "execution_count": 14,
      "metadata": {
        "id": "pYGhR8YQ4GVK"
      },
      "outputs": [],
      "source": [
        "\"..\" #TODO: use pc5.CreateDummyNucleotideFeatures to create a feature matrix from the DNA sequences\n",
        "#get numpy array from pandas dataframe\n",
        "\"..\"\n",
        "\n",
        "\"..\" # TODO: encode the labels \n"
      ]
    },
    {
      "cell_type": "markdown",
      "metadata": {
        "id": "Fg_n8cWT4GVK"
      },
      "source": [
        "---"
      ]
    },
    {
      "cell_type": "markdown",
      "metadata": {
        "id": "0o0wd-MJ4GVK"
      },
      "source": [
        "In this section we will elaborate on two specific questions that are strongly related to cross-validation. Both questions stem from the fact that we aim to build models with a high predictive power, based on a finite dataset.\n",
        " - **Question 1**: Given a relatively small dataset, how can we use the promoter dataset as efficiently as possible, to construct a model that  optimally predicts the existence of a promoter region in the prokaryotic DNA?\n",
        " - **Question 2**: How can we decide which machine learning method should be preferred to predict the presence of a promoter region?\n"
      ]
    },
    {
      "cell_type": "markdown",
      "metadata": {
        "id": "OEZpgX4p4GVL"
      },
      "source": [
        "### Question 1: cross-validation"
      ]
    },
    {
      "cell_type": "markdown",
      "metadata": {
        "id": "voJN5DPu4GVL"
      },
      "source": [
        "To construct the optimal model, we need to **select the hyperparameter that works best for the model**. Since our data set is small, we want to prevent overfitting of the model on the training data. As a result, two datasets are needed, one to train the initial model (training dataset) and one\n",
        "to validate the model and choose the model with the optimal hyperparameters (validation- or tuning dataset). The original dataset is split in 2 parts randomly, for a number of $K$ splits. Often 75% of the data is used for training and 25% for tuning.\n",
        "\n",
        "The accuracy and error are computed for each split on the data used for tuning, and then the average is taken as an overall measure of evaluation:"
      ]
    },
    {
      "cell_type": "markdown",
      "metadata": {
        "id": "jISeMs254GVL"
      },
      "source": [
        "$$\n",
        "Error = \\frac{1}{k} \\sum_{i=1}^{k} \\frac{1}{|s_i|} \\sum_{j\\in s_i}L(x_j, f(x_j)) \\tag{1}\\\\\n",
        "$$\n",
        "$$\n",
        "Accuracy = \\frac{1}{k} \\sum_{i=1}^{k} ACC_i\n",
        "$$"
      ]
    },
    {
      "cell_type": "markdown",
      "metadata": {},
      "source": [
        "<img src=\"https://miro.medium.com/v2/resize:fit:1400/format:webp/1*NgSI-ijWnHp8HFhihJQFlQ.png\" width=600>"
      ]
    },
    {
      "cell_type": "markdown",
      "metadata": {
        "id": "CljiS6894GVL"
      },
      "source": [
        "<div class=\"alert alert-success\">\n",
        "    <h2>Exercise 5.1.2</h2>\n",
        "        <p><b>Write out</b> code that performs the cross-validation using the <code>StratifiedKFold()</code> function. Use <b>four folds</b> using the nearest neighbors methodology. <b>Determine</b> the optimal amount of neighbors to maximize the model accuracy. In particular\n",
        "\n",
        "  - choose a predefined list of number of neighbors (e.g. the range 1 to 20)\n",
        "  - for each split and each number of neighbors, calculate the score of the $k$ nearest neighbor classifier\n",
        "  - plot the average score for each number of neighbors.\n",
        "  \n",
        "  What is the optimal number of neighbors? </p>\n",
        "\n",
        "</div>"
      ]
    },
    {
      "cell_type": "code",
      "execution_count": null,
      "metadata": {
        "colab": {
          "base_uri": "https://localhost:8080/",
          "height": 389
        },
        "id": "IK562Hbl4GVM",
        "outputId": "29d8d1d5-fec6-4436-b90d-9a30366ab7a9"
      },
      "outputs": [],
      "source": [
        "fold_scores = []\n",
        "# define space to iterate over\n",
        "space = np.arange(1,20)\n",
        "# define folds\n",
        "\"..\" # TODO: define number of folds, set shuffle to True\n",
        "\n",
        "for tr_idx, tu_idx in \"..\": # TODO: iterate over the folds splitting the data\n",
        "    hyper_scores = [] # store scores for each hyperparameter (number of neighbors in thiss case)\n",
        "    for hyper in space:\n",
        "        knn = KNeighborsClassifier(n_neighbors=hyper) # TODO: define classifier with hyper as number of neighbors\n",
        "        \"..\"# TODO: fit calssifier on training data\n",
        "        \"..\"# TODO: evaluate score on leave-out data\n",
        "        \"..\" # TODO: save score in list\n",
        "    \"..\" # save scores for each fold\n",
        "\n",
        "fig, ax = plt.subplots(1,1,figsize=(10,6))\n",
        "\"..\" # plot the mean of the scores for each hyperparameter\n",
        "ax.set_xlabel(\"Number of neighbors\")\n",
        "ax.set_ylabel(\"Mean Accuracy\")\n",
        "ax.set_title(\"KNN cross-validation\")"
      ]
    },
    {
      "cell_type": "markdown",
      "metadata": {
        "id": "aPUC-3zT4GVM"
      },
      "source": [
        "<div class=\"alert alert-success\">\n",
        "    <h2>Exercise 5.1.3</h2>\n",
        "        <p><b>Copy</b> your code from the previous exercise below. Replace the plot function with <code>ax.errorbar()</code> and add the variance of the mean scores displayed as vertical bars. In what range do they lie? </p>\n",
        "</div>"
      ]
    },
    {
      "cell_type": "code",
      "execution_count": null,
      "metadata": {
        "colab": {
          "base_uri": "https://localhost:8080/",
          "height": 388
        },
        "id": "scfFRJ8r4GVM",
        "outputId": "c295eaf0-489a-4d13-ce79-c1d6a11d6087"
      },
      "outputs": [],
      "source": [
        "fold_scores = []\n",
        "# define space to iterate over\n",
        "space = np.arange(1,20)\n",
        "# define folds\n",
        "folds = \"..\" #TODO: do same procedure, using erorobars to show the variance between the folds"
      ]
    },
    {
      "cell_type": "markdown",
      "metadata": {
        "id": "lcVwxGxV4GVN"
      },
      "source": [
        "<div class=\"alert alert-success\">\n",
        "    <h2>Exercise</h2>\n",
        "        <p><b>Evaluate</b> the variance of these values for an increasing amount of folds. Use as many folds as possible. Applying cross-validation with n-1 folds is considered as <u>Leave-One-Out (LOO) cross-validation</u>.. Note that using the <code> StratifiedKFold</code> method restricts you to n/2 number of folds, as it wants to preserve the percentage of samples per each class. Use the scikit-learn <code>LeaveOneOut</code> class for comparison.</p>\n",
        "        <p><b>Consider</b> the advantages and disadvantages of using few/many folds?</p>\n",
        "</div>\n"
      ]
    },
    {
      "cell_type": "code",
      "execution_count": null,
      "metadata": {
        "colab": {
          "base_uri": "https://localhost:8080/",
          "height": 388
        },
        "id": "cuRxwYcV4GVN",
        "outputId": "7ad6f5ad-d7f6-4b13-879d-c10577726803"
      },
      "outputs": [],
      "source": [
        "n_splits = \"..\"\n",
        "\"..\" # TODO: explore the effect of the number of folds on the variance of the scores"
      ]
    },
    {
      "cell_type": "markdown",
      "metadata": {
        "id": "rYeV0uD84GVO"
      },
      "source": [
        "**We strive to select a fold size that has both a stable result (i.e. selected optimal hyperparameter) over different data splits (i.e. random seed, improved by increasing training samples -> more folds) and over the different folds (often improved by decreasing variability of tune set, i.e. more tune samples) -> less folds)**\n",
        "\n"
      ]
    },
    {
      "cell_type": "markdown",
      "metadata": {},
      "source": [
        "<div class=\"alert alert-success\">\n",
        "    <h2>Exercise</h2>\n",
        "        <p> Now use the scikit-learn function <code> cross_validate</code> to analyse the performance for different number of neighbors. Compare to the accuracy on the train set</p>\n",
        "        <p><b>What do you see?</b> </p>\n",
        "</div>"
      ]
    },
    {
      "cell_type": "code",
      "execution_count": null,
      "metadata": {},
      "outputs": [],
      "source": [
        "from sklearn.model_selection import cross_validate\n",
        "\n",
        "n_splits = 4\n",
        "space = np.arange(1,20)\n",
        "folds = StratifiedKFold(n_splits=n_splits, shuffle=True, random_state=42)\n",
        "\n",
        "\n",
        "mean_cv_acc, std_cv_acc = [], [] # store mean and std of CV accuracy\n",
        "mean_train_acc = [] [] # store mean of train accuracy\n",
        "\n",
        "for k in space:\n",
        "    knn = \" \" # TODO: define knn classifier\n",
        "    # cross_validate to get both train and test scores (beware small-sample bias on train folds)\n",
        "    out = \" \" # TODO: use cross_validate to evaluate the knn classifier, using folds as cross-validation strategy\n",
        "    \n",
        "    # TODO: append the mean and std of the test scores to the respective lists\n",
        "    # TODO: append the mean of the train scores to the respective list\n",
        "\n",
        "# Plot train vs CV (balanced accuracy)\n",
        "plt.figure()\n",
        "plt.plot(space, mean_train_acc, marker=\"o\", label=\"Train (acc.)\")\n",
        "plt.plot(space, mean_cv_acc, marker=\"s\", label=\"CV (acc.)\")\n",
        "# plot error bars as well\n",
        "# TODO : plot error bars as well\n",
        "#\n",
        "plt.xlabel(\"k (neighbors)\"); plt.ylabel(\"Score\"); plt.title(f\"k-NN: Train vs CV ({n_splits}-fold, stratified)\")\n",
        "plt.legend(); plt.show()\n",
        "\n",
        "# Report best k under two metrics\n",
        "k_acc_best  = space[int(np.argmax(mean_cv_acc))]\n",
        "print(f\"Best k by Accuracy: {k_acc_best}  |  CV mean={np.max(mean_cv_acc):.3f} (±{std_cv_acc[np.argmax(mean_cv_acc)]:.3f})\")\n"
      ]
    },
    {
      "cell_type": "markdown",
      "metadata": {},
      "source": [
        "**Question: What can be a problem if the part of the data we evaluate the performance on is also used to select the optimal hyperparameter?**"
      ]
    },
    {
      "cell_type": "markdown",
      "metadata": {},
      "source": [
        "<div class=\"alert alert-success\">\n",
        "    <h2>Bonus</h2>\n",
        "        <p> Do the same analysis using Linear Discriminant Analysis (LDA) as a model.</p>\n",
        "        <p><b>What differences do you see?</b> </p>\n",
        "</div>"
      ]
    },
    {
      "cell_type": "markdown",
      "metadata": {
        "id": "ShziDgaA4GVO"
      },
      "source": [
        "## (*Optional*) Question 2: Nested Cross-Validation"
      ]
    },
    {
      "cell_type": "markdown",
      "metadata": {
        "id": "16TPwVNV4GVO"
      },
      "source": [
        "The best model is the one which is able to predict the labels of\n",
        "new instances most accurately (where accuracy is expressed by a performance measure). To be able **to make an unbiased estimate of your model performance, e.g. for comparison of two different methods**, it is important to exclude any bias. To obtain this estimate, the accuracy of the model must be determined on\n",
        "a dataset that is neither used for building nor for tuning the models. This dataset is called the test set and is set aside in the very beginning of the model building process.\n",
        "\n",
        "\n",
        "_Nested cross-validation_ is used to train a model in which hyperparameters also need to be optimized. Nested CV estimates the generalization error of the underlying model and its (hyper)parameter search. Choosing the parameters that maximize non-nested CV biases the model to the dataset, yielding an overly-optimistic score.\n",
        "\n",
        "Model selection without nested CV uses the same data to tune model parameters and evaluate model performance. Information may thus “leak” into the model and overfit the data. The magnitude of this effect is primarily dependent on the size of the dataset and the stability of the model.\n",
        "\n",
        "\n",
        "To put this more formally, the following steps are taken:\n",
        "1. Select a part (for instance 25 %) of the data as test data and put it aside.\n",
        "2. Use the other part of the data (training/tuning data) to select an optimal set of hyperparameters.\n",
        "3. Build a new model on the training/tuning data using the optimal hyperparameters\n",
        "3. Compute the prediction accuracy (or another performance measure) of the final models on the test dataset. Apply for all outer folds and choose the model with the highest averaged accuracy.\n"
      ]
    },
    {
      "cell_type": "markdown",
      "metadata": {
        "id": "tl0b1OGO4GVO"
      },
      "source": [
        "![nestedCV.png](data:image/png;base64,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)"
      ]
    },
    {
      "cell_type": "markdown",
      "metadata": {
        "id": "gRGA3YdX4GVO"
      },
      "source": [
        "<div class=\"alert alert-success\">\n",
        "    <h2>Exercise 5.2.1</h2>\n",
        "        <p><b>Write out</b> code that performs the nested cross-validation. compare the results on two models using k nearest neighbours and logistic discriminant analysis (solver: 'eigen', hyperparameter: 'shrinkage'). In particular\n",
        "\n",
        "- define the number of \"outer\" and \"innner\" splits, where the outer splits are done for dividing into train/tune and test set, and the inner splits for splitting the train/tune into train and tune\n",
        "- define a hyperparameter space over which to iterate and evaluate the model performance\n",
        "- fit the model on the train data used for the current split and calculate the score on the remaining data used for tuning\n",
        "- using the mean score on the tuning data, save the optimal hyperparameter for each \"outer\" fold, that will be used for the evaluatin on the test set\n",
        "- fit your model using the optimal parameter on the respective outer fold train data, evaluate on the test data\n",
        "- plot the scores for the test data for each (outer) fold\n",
        "- plot the scores on the tuning data for each (outer) fold, using the optimal hyperparameter and the mean over the inner folds\n",
        "         </p>\n",
        "</div>"
      ]
    },
    {
      "cell_type": "markdown",
      "metadata": {},
      "source": [
        "### 1. Evaluating $k$-nearest neighbors using Nested Cross-Validation"
      ]
    },
    {
      "cell_type": "code",
      "execution_count": null,
      "metadata": {
        "colab": {
          "base_uri": "https://localhost:8080/",
          "height": 1000
        },
        "id": "pvBbSeQI4GVO",
        "outputId": "1fa29151-9224-4b2a-f76a-e930a6047ac2"
      },
      "outputs": [],
      "source": [
        "# list containing scores on test set\n",
        "test_scores = []\n",
        "# list containing max (mean score) on tuning set\n",
        "max_scores = []\n",
        "# list optimal hyperparameter for each fold\n",
        "opt_pars_in = []\n",
        "opt_pars_out = []\n",
        "# define space to iterate over\n",
        "space = np.arange(1,20)\n",
        "# define folds\n",
        "outer_splits = \"..\" # TODO: define number of \"outer\" splits to divide in training/tuning and testing\n",
        "inner_splits = \"..\" #TODO:  define number of \"inner\" splits to divide in training and tuning\n",
        "outer_folds = StratifiedKFold(\"..\") # TODO: define outer folds, set shuffle to True\n",
        "inner_folds = StratifiedKFold(\"..\") # TODO: define inner folds, set shuffle to True\n",
        "\n",
        "#split in training/tuning and testing data\n",
        "for trtu_idx, te_idx in outer_folds.split(X,y):\n",
        "    X_trtu, y_trtu = \"..\" # TODO: select training/tuning data\n",
        "    fold_scores = []\n",
        "    for tr_idx, tu_idx in inner_folds.split(X_trtu,y_trtu):\n",
        "        hyper_scores = []\n",
        "        for i, hyper in enumerate(space):\n",
        "            knn = \"..\" # TODO: define classifier with respective as number of neighbors\n",
        "            \"..\"# TODO: fit on trianing data\n",
        "            score = \"..\" # TODO: calculate score on test data\n",
        "            hyper_scores.append(score)\n",
        "        opt_pars_in.append(\"..\") # TODO: save optimal number of neighbors for respective inner fold\n",
        "        fold_scores.append(hyper_scores)\n",
        "\n",
        "    opt_pars_out.append(\"..\") # TODO: save optimal number of neighbors for outer fold, using mean score on tuning data\n",
        "    # score of model using optimal hyperpar. on tuning data\n",
        "    max_scores.append(\"..\") # TODO: save score for optimal hyperparameter on the mean score on tuning data\n",
        "    \n",
        "    # fit and evaluate on test set using optimal parameter\n",
        "    knn = KNeighborsClassifier(n_neighbors=opt_pars_out[-1])\n",
        "    \"..\" # TODO: fit the model on training/tuning data\n",
        "    score_test = \"..\" # TODO: evaluate score on test data\n",
        "    test_scores.append(score_test)\n",
        "\n",
        "\n",
        "fig, ax = plt.subplots(1,1,figsize=(10,6))\n",
        "ax.plot(np.arange(outer_splits), test_scores, '-o', label=\"Accuracy on test data\")\n",
        "ax.plot(np.arange(outer_splits), max_scores, '-o', label=\"Mean accuracy on tuning data\")\n",
        "ax.set_xlabel('fold')\n",
        "ax.set_ylabel('performance')\n",
        "ax.legend()\n",
        "\n",
        "print(\"mean test score: {}\".format(np.mean(test_scores)))\n",
        "print(\"mean tune score: {}\".format(np.mean(max_scores)))\n",
        "#plt.errorbar(space,np.mean(fold_scores,axis=0),np.var(fold_scores,axis=0))\n",
        "plt.title(f\"KNN NEsted Cross Validation for {outer_splits} outer splits\")"
      ]
    },
    {
      "cell_type": "markdown",
      "metadata": {
        "id": "inqw7-q1-lqY"
      },
      "source": [
        "## 2. Evaluating LDA using Nested Cross-Validation"
      ]
    },
    {
      "cell_type": "code",
      "execution_count": null,
      "metadata": {
        "colab": {
          "base_uri": "https://localhost:8080/",
          "height": 746
        },
        "id": "4A9oO-6J4GVP",
        "outputId": "8bd2110b-b423-4bea-a5d0-de6c33d13751"
      },
      "outputs": [],
      "source": [
        "from sklearn.discriminant_analysis import LinearDiscriminantAnalysis\n",
        "import warnings\n",
        "warnings.filterwarnings('ignore')\n",
        "# list containing scores on test set\n",
        "test_scores = []\n",
        "# list containing max (mean score) on tuning set\n",
        "max_scores = []\n",
        "# define space to iterate over\n",
        "space = np.arange(0,1.1,0.2)\n",
        "# list optimal hyperparameter for each fold\n",
        "opt_pars_in = []\n",
        "opt_pars_out = []\n",
        "# define folds\n",
        "outer_splits = 12\n",
        "inner_splits = 20\n",
        "outer_folds = StratifiedKFold(\"..\") # TODO\n",
        "inner_folds = StratifiedKFold(\"..\") # TODO\n",
        "\n",
        "#split in training/tuning and testing data\n",
        "for trtu_idx, te_idx in outer_folds.split(X,y):\n",
        "    \"..\" # TODO: apply the same procedure as before, but using LDA as classifier\n",
        "\n",
        "\n",
        "\n",
        "\n",
        "fig, ax1 = plt.subplots(1,1,figsize=(10,6))\n",
        "ax1.plot(np.arange(outer_splits), test_scores, label=\"Accuracy on test data\")\n",
        "ax1.plot(np.arange(outer_splits), max_scores, label=\"Mean accuracy on tuning data\")\n",
        "ax1.legend()\n",
        "ax1.set_xlabel('fold')\n",
        "ax1.set_ylabel('performance')\n",
        "\n",
        "print(\"mean test score: {}\".format(np.mean(test_scores)))\n",
        "print(\"mean tune score: {}\".format(np.mean(max_scores)))\n",
        "#plt.errorbar(space,np.mean(fold_scores,axis=0),np.var(fold_scores,axis=0))"
      ]
    },
    {
      "cell_type": "markdown",
      "metadata": {
        "id": "-6Pwh3kJ4GVP"
      },
      "source": [
        "**It is important to notice that nested cross-validation first and foremost is used to evaluate an unbiased performance metric of your method of choice, and can thereby be used to evaluate performances between different types of approaches/models. Visualizing results can give a better interpretation about the quality of your data. Hyperparameter selection is performed using simple cross-validation. When different hyperparameters are selected for different folds (unstable results), one could potentially increase the amount of folds, thereby using more data for training and less for testing, albeit with the cost of running more iterations. In case hyperparameter selection stays unstable it can be due to different factors. Most commonly, not enough data is present, making it impossible to fit the true distribution of the data. In contrast, if the model is too complex, it will easily overfit your data, resulting in common results. It can help to try more simple methods. In many settings the differences between performances of varying hyperparameters are minimal, and can be said to not really be of importance.**"
      ]
    },
    {
      "cell_type": "markdown",
      "metadata": {
        "id": "p-rEDSxZ4GVP"
      },
      "source": [
        "**An interesting discussion on the use of cross validation and nested cross validation can be found [here](https://stats.stackexchange.com/questions/65128/nested-cross-validation-for-model-selection)**"
      ]
    },
    {
      "cell_type": "code",
      "execution_count": null,
      "metadata": {},
      "outputs": [],
      "source": []
    },
    {
      "cell_type": "markdown",
      "metadata": {
        "id": "hIgOnl8H4GVP"
      },
      "source": [
        "### Note on the dataset"
      ]
    },
    {
      "cell_type": "markdown",
      "metadata": {
        "id": "yinyytPW4GVQ"
      },
      "source": [
        "**The dataset used is small in comparison with the amount of features. This causes randomness that often has a significant effect on the results of both the cross-validation and nested cross-validation. When evaluating models with less features or more samples, more stable results are to be expected over different runs of cross-validation. Tweaking the number of folds and decreasing the amount of features can help to reduce the randomness to obtain a more stable result. In the next lectures different approaches will be explained which can help tackle this issues (i.e. regularization)**"
      ]
    },
    {
      "cell_type": "code",
      "execution_count": null,
      "metadata": {
        "id": "DVpY2SCT4GVQ"
      },
      "outputs": [],
      "source": []
    }
  ],
  "metadata": {
    "colab": {
      "provenance": []
    },
    "kernelspec": {
      "display_name": "distuq",
      "language": "python",
      "name": "python3"
    },
    "language_info": {
      "codemirror_mode": {
        "name": "ipython",
        "version": 3
      },
      "file_extension": ".py",
      "mimetype": "text/x-python",
      "name": "python",
      "nbconvert_exporter": "python",
      "pygments_lexer": "ipython3",
      "version": "3.11.0"
    },
    "varInspector": {
      "cols": {
        "lenName": 16,
        "lenType": 16,
        "lenVar": 40
      },
      "kernels_config": {
        "python": {
          "delete_cmd_postfix": "",
          "delete_cmd_prefix": "del ",
          "library": "var_list.py",
          "varRefreshCmd": "print(var_dic_list())"
        },
        "r": {
          "delete_cmd_postfix": ") ",
          "delete_cmd_prefix": "rm(",
          "library": "var_list.r",
          "varRefreshCmd": "cat(var_dic_list()) "
        }
      },
      "oldHeight": 786,
      "position": {
        "height": "40px",
        "left": "1419.27px",
        "right": "20px",
        "top": "165.95px",
        "width": "482px"
      },
      "types_to_exclude": [
        "module",
        "function",
        "builtin_function_or_method",
        "instance",
        "_Feature"
      ],
      "varInspector_section_display": "none",
      "window_display": true
    }
  },
  "nbformat": 4,
  "nbformat_minor": 0
}
